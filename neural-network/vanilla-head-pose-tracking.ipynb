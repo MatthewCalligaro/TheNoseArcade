{
  "nbformat": 4,
  "nbformat_minor": 0,
  "metadata": {
    "colab": {
      "name": "vanilla-head-pose-tracking.ipynb",
      "version": "0.3.2",
      "provenance": []
    },
    "kernelspec": {
      "display_name": "Python 3",
      "language": "python",
      "name": "python3"
    }
  },
  "cells": [
    {
      "metadata": {
        "id": "XO6b11Aj8fEX",
        "colab_type": "text"
      },
      "cell_type": "markdown",
      "source": [
        "# Vanilla Head Pose Tracking\n",
        "This notebook contains the instructions for the first vanilla version of our head pose tracking algorithm. It simply loads the fast.ai pre-trained ImageNet model and trains it on the BIWI Kinect Headpose Dataset. \n",
        "\n",
        "Source: fast.ai's lesson3-head-pose.ipynb notebook"
      ]
    },
    {
      "metadata": {
        "id": "1nTmhDUK9kUY",
        "colab_type": "text"
      },
      "cell_type": "markdown",
      "source": [
        "## Installation\n",
        "The following pip commands need to be run the very first time you run the notebook. They install the necessary packages for running the code. \n",
        "\n",
        "Source: The instructions come from [here](https://gist.github.com/gilrosenthal/58e9b4f9d562d000d07d7cf0e5dbd840) and [here](https://forums.fast.ai/t/importerror-cannot-import-name-as-tensor/25295/4)."
      ]
    },
    {
      "metadata": {
        "colab_type": "code",
        "id": "eGWfkFcY8oK9",
        "colab": {}
      },
      "cell_type": "code",
      "source": [
        "# !pip install fastai\n",
        "# !apt-get -qq install -y libsm6 libxext6 && pip install -q -U opencv-python\n",
        "# !pip install -q http://download.pytorch.org/whl/{accelerator}/torch-0.3.0.post4-{platform}-linux_x86_64.whl torchvision\n",
        "# !pip install Pillow==4.0.0\n",
        "# !pip install image\n",
        "# !pip install torchtext==0.2.3"
      ],
      "execution_count": 0,
      "outputs": []
    },
    {
      "metadata": {
        "id": "gvHDcPsZ96Th",
        "colab_type": "text"
      },
      "cell_type": "markdown",
      "source": [
        "## Import\n",
        "The following cells import the necessary modules for running a notebook with fast.ai. They need to be run every time the notebook starts."
      ]
    },
    {
      "metadata": {
        "id": "Sgh8mJMm4Jab",
        "colab_type": "code",
        "colab": {}
      },
      "cell_type": "code",
      "source": [
        "import cv2\n",
        "from os import path\n",
        "from wheel.pep425tags import get_abbr_impl, get_impl_ver, get_abi_tag\n",
        "import torch"
      ],
      "execution_count": 0,
      "outputs": []
    },
    {
      "metadata": {
        "id": "LaRzjmeI4RoZ",
        "colab_type": "code",
        "colab": {}
      },
      "cell_type": "code",
      "source": [
        "platform = '{}{}-{}'.format(get_abbr_impl(), get_impl_ver(), get_abi_tag())\n",
        "accelerator = 'cu80' if path.exists('/opt/bin/nvidia-smi') else 'cpu'"
      ],
      "execution_count": 0,
      "outputs": []
    },
    {
      "metadata": {
        "id": "287uzXFs4U6E",
        "colab_type": "code",
        "colab": {}
      },
      "cell_type": "code",
      "source": [
        "%reload_ext autoreload\n",
        "%autoreload 2\n",
        "%matplotlib inline"
      ],
      "execution_count": 0,
      "outputs": []
    },
    {
      "metadata": {
        "id": "rbNdDJYM4d9a",
        "colab_type": "code",
        "colab": {}
      },
      "cell_type": "code",
      "source": [
        "from fastai.vision import *"
      ],
      "execution_count": 0,
      "outputs": []
    },
    {
      "metadata": {
        "id": "bY3sBo996Ga_",
        "colab_type": "code",
        "colab": {}
      },
      "cell_type": "code",
      "source": [
        ""
      ],
      "execution_count": 0,
      "outputs": []
    }
  ]
}