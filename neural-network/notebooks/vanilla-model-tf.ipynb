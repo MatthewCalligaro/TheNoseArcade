{
  "nbformat": 4,
  "nbformat_minor": 0,
  "metadata": {
    "colab": {
      "name": "vanilla-model-tf.ipynb",
      "version": "0.3.2",
      "provenance": []
    },
    "kernelspec": {
      "name": "python3",
      "display_name": "Python 3"
    },
    "accelerator": "GPU"
  },
  "cells": [
    {
      "metadata": {
        "id": "y6oUpteq8cHr",
        "colab_type": "text"
      },
      "cell_type": "markdown",
      "source": [
        "## TensorFlow Head Pose Model\n",
        "Source: [here](https://towardsdatascience.com/multitask-learning-in-tensorflow-with-the-head-api-68f2717019df)"
      ]
    },
    {
      "metadata": {
        "id": "mevr-p9F8oxi",
        "colab_type": "text"
      },
      "cell_type": "markdown",
      "source": [
        "## Set up the virtual machine"
      ]
    },
    {
      "metadata": {
        "id": "9KmZTANc8lTu",
        "colab_type": "code",
        "colab": {
          "base_uri": "https://localhost:8080/",
          "height": 837
        },
        "outputId": "d885d36e-b773-4fc3-da18-64d4eef6cbb2"
      },
      "cell_type": "code",
      "source": [
        "# Install all necessary packages\n",
        "!pip install tensorflow tqdm requests --upgrade"
      ],
      "execution_count": 1,
      "outputs": [
        {
          "output_type": "stream",
          "text": [
            "Requirement already up-to-date: tensorflow in /usr/local/lib/python3.6/dist-packages (1.13.1)\n",
            "Collecting tqdm\n",
            "\u001b[?25l  Downloading https://files.pythonhosted.org/packages/6c/4b/c38b5144cf167c4f52288517436ccafefe9dc01b8d1c190e18a6b154cd4a/tqdm-4.31.1-py2.py3-none-any.whl (48kB)\n",
            "\u001b[K    100% |████████████████████████████████| 51kB 3.5MB/s \n",
            "\u001b[?25hCollecting requests\n",
            "\u001b[?25l  Downloading https://files.pythonhosted.org/packages/7d/e3/20f3d364d6c8e5d2353c72a67778eb189176f08e873c9900e10c0287b84b/requests-2.21.0-py2.py3-none-any.whl (57kB)\n",
            "\u001b[K    100% |████████████████████████████████| 61kB 21.8MB/s \n",
            "\u001b[?25hRequirement already satisfied, skipping upgrade: absl-py>=0.1.6 in /usr/local/lib/python3.6/dist-packages (from tensorflow) (0.7.0)\n",
            "Requirement already satisfied, skipping upgrade: numpy>=1.13.3 in /usr/local/lib/python3.6/dist-packages (from tensorflow) (1.14.6)\n",
            "Requirement already satisfied, skipping upgrade: wheel>=0.26 in /usr/local/lib/python3.6/dist-packages (from tensorflow) (0.33.1)\n",
            "Requirement already satisfied, skipping upgrade: six>=1.10.0 in /usr/local/lib/python3.6/dist-packages (from tensorflow) (1.11.0)\n",
            "Requirement already satisfied, skipping upgrade: termcolor>=1.1.0 in /usr/local/lib/python3.6/dist-packages (from tensorflow) (1.1.0)\n",
            "Requirement already satisfied, skipping upgrade: grpcio>=1.8.6 in /usr/local/lib/python3.6/dist-packages (from tensorflow) (1.15.0)\n",
            "Requirement already satisfied, skipping upgrade: tensorboard<1.14.0,>=1.13.0 in /usr/local/lib/python3.6/dist-packages (from tensorflow) (1.13.0)\n",
            "Requirement already satisfied, skipping upgrade: gast>=0.2.0 in /usr/local/lib/python3.6/dist-packages (from tensorflow) (0.2.2)\n",
            "Requirement already satisfied, skipping upgrade: keras-applications>=1.0.6 in /usr/local/lib/python3.6/dist-packages (from tensorflow) (1.0.7)\n",
            "Requirement already satisfied, skipping upgrade: keras-preprocessing>=1.0.5 in /usr/local/lib/python3.6/dist-packages (from tensorflow) (1.0.9)\n",
            "Requirement already satisfied, skipping upgrade: astor>=0.6.0 in /usr/local/lib/python3.6/dist-packages (from tensorflow) (0.7.1)\n",
            "Requirement already satisfied, skipping upgrade: tensorflow-estimator<1.14.0rc0,>=1.13.0 in /usr/local/lib/python3.6/dist-packages (from tensorflow) (1.13.0)\n",
            "Requirement already satisfied, skipping upgrade: protobuf>=3.6.1 in /usr/local/lib/python3.6/dist-packages (from tensorflow) (3.6.1)\n",
            "Requirement already satisfied, skipping upgrade: certifi>=2017.4.17 in /usr/local/lib/python3.6/dist-packages (from requests) (2018.11.29)\n",
            "Requirement already satisfied, skipping upgrade: urllib3<1.25,>=1.21.1 in /usr/local/lib/python3.6/dist-packages (from requests) (1.22)\n",
            "Requirement already satisfied, skipping upgrade: chardet<3.1.0,>=3.0.2 in /usr/local/lib/python3.6/dist-packages (from requests) (3.0.4)\n",
            "Requirement already satisfied, skipping upgrade: idna<2.9,>=2.5 in /usr/local/lib/python3.6/dist-packages (from requests) (2.6)\n",
            "Requirement already satisfied, skipping upgrade: werkzeug>=0.11.15 in /usr/local/lib/python3.6/dist-packages (from tensorboard<1.14.0,>=1.13.0->tensorflow) (0.14.1)\n",
            "Requirement already satisfied, skipping upgrade: markdown>=2.6.8 in /usr/local/lib/python3.6/dist-packages (from tensorboard<1.14.0,>=1.13.0->tensorflow) (3.0.1)\n",
            "Requirement already satisfied, skipping upgrade: h5py in /usr/local/lib/python3.6/dist-packages (from keras-applications>=1.0.6->tensorflow) (2.8.0)\n",
            "Requirement already satisfied, skipping upgrade: mock>=2.0.0 in /usr/local/lib/python3.6/dist-packages (from tensorflow-estimator<1.14.0rc0,>=1.13.0->tensorflow) (2.0.0)\n",
            "Requirement already satisfied, skipping upgrade: setuptools in /usr/local/lib/python3.6/dist-packages (from protobuf>=3.6.1->tensorflow) (40.8.0)\n",
            "Requirement already satisfied, skipping upgrade: pbr>=0.11 in /usr/local/lib/python3.6/dist-packages (from mock>=2.0.0->tensorflow-estimator<1.14.0rc0,>=1.13.0->tensorflow) (5.1.3)\n",
            "\u001b[31mspacy 2.0.18 has requirement numpy>=1.15.0, but you'll have numpy 1.14.6 which is incompatible.\u001b[0m\n",
            "\u001b[31mgoogle-colab 1.0.0 has requirement requests~=2.18.0, but you'll have requests 2.21.0 which is incompatible.\u001b[0m\n",
            "\u001b[31mfeaturetools 0.4.1 has requirement pandas>=0.23.0, but you'll have pandas 0.22.0 which is incompatible.\u001b[0m\n",
            "\u001b[31mfastai 1.0.46 has requirement numpy>=1.15, but you'll have numpy 1.14.6 which is incompatible.\u001b[0m\n",
            "Installing collected packages: tqdm, requests\n",
            "  Found existing installation: tqdm 4.28.1\n",
            "    Uninstalling tqdm-4.28.1:\n",
            "      Successfully uninstalled tqdm-4.28.1\n",
            "  Found existing installation: requests 2.18.4\n",
            "    Uninstalling requests-2.18.4:\n",
            "      Successfully uninstalled requests-2.18.4\n",
            "Successfully installed requests-2.21.0 tqdm-4.31.1\n"
          ],
          "name": "stdout"
        },
        {
          "output_type": "display_data",
          "data": {
            "application/vnd.colab-display-data+json": {
              "pip_warning": {
                "packages": [
                  "requests"
                ]
              }
            }
          },
          "metadata": {
            "tags": []
          }
        }
      ]
    },
    {
      "metadata": {
        "id": "e-Bvjd5f8nBV",
        "colab_type": "code",
        "colab": {
          "base_uri": "https://localhost:8080/",
          "height": 34
        },
        "outputId": "f402925e-0831-442a-f856-cd1f3138b2a6"
      },
      "cell_type": "code",
      "source": [
        "# Dataset is taken from here: http://mmlab.ie.cuhk.edu.hk/projects/TCDCN.html\n",
        "# Small code is taken from this StackOverflow thread: https://stackoverflow.com/questions/22676/how-do-i-download-a-file-over-http-using-python\n",
        "# This could take a while!\n",
        "\n",
        "from tqdm import tqdm\n",
        "import requests\n",
        "\n",
        "url = \"http://mmlab.ie.cuhk.edu.hk/projects/TCDCN/data/MTFL.zip\"\n",
        "response = requests.get(url, stream=True)\n",
        "\n",
        "with open(\"MTFL\", \"wb\") as handle:\n",
        "    for data in tqdm(response.iter_content(), unit=' KB'):\n",
        "        handle.write(data)"
      ],
      "execution_count": 1,
      "outputs": [
        {
          "output_type": "stream",
          "text": [
            "150152960 KB [23:51, 104894.78 KB/s]\n"
          ],
          "name": "stderr"
        }
      ]
    },
    {
      "metadata": {
        "id": "C0CRii3C873i",
        "colab_type": "code",
        "colab": {}
      },
      "cell_type": "code",
      "source": [
        "# Unzip all files\n",
        "import zipfile\n",
        "zip_ref = zipfile.ZipFile('MTFL', 'r')\n",
        "zip_ref.extractall()\n",
        "zip_ref.close()"
      ],
      "execution_count": 0,
      "outputs": []
    },
    {
      "metadata": {
        "id": "nJS3556jCuSh",
        "colab_type": "code",
        "colab": {
          "base_uri": "https://localhost:8080/",
          "height": 51
        },
        "outputId": "5788b6b7-2608-4791-80ac-563d95ace588"
      },
      "cell_type": "code",
      "source": [
        "# Check data has been downloaded\n",
        "!ls"
      ],
      "execution_count": 3,
      "outputs": [
        {
          "output_type": "stream",
          "text": [
            "AFLW\t  MTFL\t    readme.txt\t testing.txt\n",
            "lfw_5590  net_7876  sample_data  training.txt\n"
          ],
          "name": "stdout"
        }
      ]
    },
    {
      "metadata": {
        "id": "tqA69MJqC6yf",
        "colab_type": "text"
      },
      "cell_type": "markdown",
      "source": [
        "## Load Data"
      ]
    },
    {
      "metadata": {
        "id": "MteoInW7C24W",
        "colab_type": "code",
        "colab": {}
      },
      "cell_type": "code",
      "source": [
        "# Import training/test files in Pandas\n",
        "import pandas as pd\n",
        "train_data = pd.read_csv('training.txt', sep=' ', header=None, skipinitialspace=True, nrows=10000)\n",
        "test_data = pd.read_csv('testing.txt', sep=' ', header=None, skipinitialspace=True, nrows=2995)"
      ],
      "execution_count": 0,
      "outputs": []
    },
    {
      "metadata": {
        "id": "mrEUVszGC961",
        "colab_type": "code",
        "colab": {
          "base_uri": "https://localhost:8080/",
          "height": 289
        },
        "outputId": "2327d3fa-a27e-4219-f5ca-8f3e82a34f46"
      },
      "cell_type": "code",
      "source": [
        "# Inspect the first row\n",
        "train_data.iloc[0]"
      ],
      "execution_count": 5,
      "outputs": [
        {
          "output_type": "execute_result",
          "data": {
            "text/plain": [
              "0     lfw_5590\\Aaron_Eckhart_0001.jpg\n",
              "1                              107.25\n",
              "2                              147.75\n",
              "3                              126.25\n",
              "4                              106.25\n",
              "5                              140.75\n",
              "6                              108.75\n",
              "7                              113.25\n",
              "8                              143.75\n",
              "9                              158.75\n",
              "10                             162.75\n",
              "11                                  1\n",
              "12                                  2\n",
              "13                                  2\n",
              "14                                  3\n",
              "Name: 0, dtype: object"
            ]
          },
          "metadata": {
            "tags": []
          },
          "execution_count": 5
        }
      ]
    },
    {
      "metadata": {
        "id": "9zTKWxYrDAV2",
        "colab_type": "code",
        "colab": {}
      },
      "cell_type": "code",
      "source": [
        "# Simple hack to replace \\ with /\n",
        "train_data.iloc[:, 0] = train_data.iloc[:, 0].apply(lambda s: s.replace('\\\\', '/')) # Needed for filename convention\n",
        "test_data.iloc[:, 0] = test_data.iloc[:, 0].apply(lambda s: s.replace('\\\\', '/')) # Needed for filename convention"
      ],
      "execution_count": 0,
      "outputs": []
    },
    {
      "metadata": {
        "id": "zkO3L1kTDIlX",
        "colab_type": "text"
      },
      "cell_type": "markdown",
      "source": [
        "## Step 1 - Data loading with tf.data and tf.image"
      ]
    },
    {
      "metadata": {
        "id": "UbHcTlZ0DE7W",
        "colab_type": "code",
        "colab": {}
      },
      "cell_type": "code",
      "source": [
        "# Note: we are enabling eager execution for debugging!\n",
        "import numpy as np\n",
        "import tensorflow as tf\n",
        "tf.enable_eager_execution()"
      ],
      "execution_count": 0,
      "outputs": []
    },
    {
      "metadata": {
        "id": "PeLGauQRDLE9",
        "colab_type": "code",
        "colab": {
          "base_uri": "https://localhost:8080/",
          "height": 292
        },
        "outputId": "6e473271-7184-41b3-c31f-1bc3a9bd026a"
      },
      "cell_type": "code",
      "source": [
        "# Example code for handling datasets\n",
        "import matplotlib.pyplot as plt\n",
        "\n",
        "# Load filenames and labels\n",
        "filenames = tf.constant(train_data.iloc[:, 0].tolist())\n",
        "labels = tf.constant(train_data.iloc[:, 1:].values)\n",
        "\n",
        "# Add to a dataset object\n",
        "dataset = tf.data.Dataset.from_tensor_slices((filenames, labels))\n",
        "\n",
        "# We can debug using eager execution\n",
        "for img, labels in dataset.batch(4).take(1):\n",
        "  print(img)\n",
        "  print(labels)"
      ],
      "execution_count": 8,
      "outputs": [
        {
          "output_type": "stream",
          "text": [
            "WARNING:tensorflow:From /usr/local/lib/python3.6/dist-packages/tensorflow/python/data/ops/iterator_ops.py:532: colocate_with (from tensorflow.python.framework.ops) is deprecated and will be removed in a future version.\n",
            "Instructions for updating:\n",
            "Colocations handled automatically by placer.\n",
            "tf.Tensor(\n",
            "[b'lfw_5590/Aaron_Eckhart_0001.jpg' b'lfw_5590/Aaron_Guiel_0001.jpg'\n",
            " b'lfw_5590/Aaron_Peirsol_0001.jpg' b'lfw_5590/Aaron_Pena_0001.jpg'], shape=(4,), dtype=string)\n",
            "tf.Tensor(\n",
            "[[107.25 147.75 126.25 106.25 140.75 108.75 113.25 143.75 158.75 162.75\n",
            "    1.     2.     2.     3.  ]\n",
            " [101.25 146.75 125.25  93.75 139.75 112.25 117.75 137.75 160.75 164.75\n",
            "    1.     1.     2.     3.  ]\n",
            " [107.75 147.75 130.25 109.25 147.75 114.25 114.25 140.75 154.25 153.75\n",
            "    1.     1.     2.     3.  ]\n",
            " [102.75 146.25 126.25 120.75 147.25 117.75 104.75 137.75 164.75 156.75\n",
            "    1.     2.     2.     3.  ]], shape=(4, 14), dtype=float64)\n"
          ],
          "name": "stdout"
        }
      ]
    },
    {
      "metadata": {
        "id": "5Iwk-v6DDNKn",
        "colab_type": "code",
        "colab": {}
      },
      "cell_type": "code",
      "source": [
        "# Reads an image from a file, decodes it into a dense tensor, and resizes it\n",
        "# to a fixed shape.\n",
        "def _parse_function(filename, label):\n",
        "  image_string = tf.read_file(filename) \n",
        "  image_decoded = tf.image.decode_jpeg(image_string, channels=3) # Channels needed because some test images are b/w\n",
        "  image_resized = tf.image.resize_images(image_decoded, [40, 40])\n",
        "  image_shape = tf.cast(tf.shape(image_decoded), tf.float32)\n",
        "  label = tf.concat([label[0:5] / image_shape[0], label[5:10] / image_shape[1], label[10:]], axis=0)\n",
        "  return {\"x\": image_resized}, label"
      ],
      "execution_count": 0,
      "outputs": []
    },
    {
      "metadata": {
        "id": "eQxDjxo5DWcs",
        "colab_type": "code",
        "colab": {}
      },
      "cell_type": "code",
      "source": [
        "# This snippet is adapted from here: https://www.tensorflow.org/guide/datasets\n",
        "def input_fn(dataframe, is_eval=False):\n",
        "\n",
        "  # Load the list of files\n",
        "  filenames = tf.constant(dataframe.iloc[:, 0].tolist())\n",
        "\n",
        "  # Load the labels\n",
        "  labels = tf.constant(dataframe.iloc[:, 1:].values.astype(np.float32))\n",
        "\n",
        "  # Build the dataset with image processing on top of it\n",
        "  dataset = tf.data.Dataset.from_tensor_slices((filenames, labels))\n",
        "  dataset = dataset.map(_parse_function)\n",
        "\n",
        "  # Add shuffling and repeatition if training\n",
        "  if is_eval:\n",
        "    dataset = dataset.batch(64)\n",
        "  else:\n",
        "    dataset = dataset.repeat().shuffle(1000).batch(64)\n",
        "  \n",
        "  return dataset"
      ],
      "execution_count": 0,
      "outputs": []
    },
    {
      "metadata": {
        "id": "ISNZs6H1DZUp",
        "colab_type": "code",
        "colab": {
          "base_uri": "https://localhost:8080/",
          "height": 398
        },
        "outputId": "1d411667-bdb0-4b54-86ab-1c6e858f10bc"
      },
      "cell_type": "code",
      "source": [
        "# Check the image\n",
        "import matplotlib.pyplot as plt\n",
        "for (imgs, labels) in input_fn(train_data, is_eval=True).take(1):\n",
        "  plt.imshow(imgs['x'][0] / 255)\n",
        "  print(labels[0])"
      ],
      "execution_count": 11,
      "outputs": [
        {
          "output_type": "stream",
          "text": [
            "tf.Tensor(\n",
            "[0.429 0.591 0.505 0.425 0.563 0.435 0.453 0.575 0.635 0.651 1.    2.\n",
            " 2.    3.   ], shape=(14,), dtype=float32)\n"
          ],
          "name": "stdout"
        },
        {
          "output_type": "display_data",
          "data": {
            "image/png": "[encoded data removed]",
            "text/plain": [
              "<Figure size 576x396 with 1 Axes>"
            ]
          },
          "metadata": {
            "tags": []
          }
        }
      ]
    },
    {
      "metadata": {
        "id": "zlqwRxDDDpoM",
        "colab_type": "text"
      },
      "cell_type": "markdown",
      "source": [
        "## Standard classical estimator (single-task only!)"
      ]
    },
    {
      "metadata": {
        "id": "yXlSaMfuDdEY",
        "colab_type": "code",
        "colab": {}
      },
      "cell_type": "code",
      "source": [
        "# Reimplement the feature extraction from the original paper\n",
        "def extract_features(features):\n",
        "  # Input layer\n",
        "  input_layer = tf.reshape(features[\"x\"], [-1, 40, 40, 3])\n",
        "\n",
        "  # First convolutive layer\n",
        "  conv1 = tf.layers.conv2d(inputs=input_layer, filters=16, kernel_size=[5, 5], padding=\"same\", activation=tf.nn.relu)\n",
        "  pool1 = tf.layers.max_pooling2d(inputs=conv1, pool_size=[2, 2], strides=2)\n",
        "\n",
        "  # Second convolutive layer\n",
        "  conv2 = tf.layers.conv2d(inputs=pool1, filters=48, kernel_size=[3, 3], padding=\"same\", activation=tf.nn.relu)\n",
        "  pool2 = tf.layers.max_pooling2d(inputs=conv2, pool_size=[2, 2], strides=2)\n",
        "  \n",
        "  # Third convolutive layer\n",
        "  conv3 = tf.layers.conv2d(inputs=pool2, filters=64, kernel_size=[3, 3], padding=\"same\", activation=tf.nn.relu)\n",
        "  pool3 = tf.layers.max_pooling2d(inputs=conv3, pool_size=[2, 2], strides=2)\n",
        "  \n",
        "  # Fourth convolutive layer\n",
        "  conv4 = tf.layers.conv2d(inputs=pool3, filters=64, kernel_size=[2, 2], padding=\"same\", activation=tf.nn.relu)\n",
        "  \n",
        "  # Dense Layer\n",
        "  flat = tf.reshape(conv4, [-1, 5 * 5 * 64])\n",
        "  dense = tf.layers.dense(inputs=flat, units=100, activation=tf.nn.relu)\n",
        "  \n",
        "  return dense"
      ],
      "execution_count": 0,
      "outputs": []
    },
    {
      "metadata": {
        "id": "u0-z14HtDtDF",
        "colab_type": "code",
        "colab": {}
      },
      "cell_type": "code",
      "source": [
        "# Adapted from here: https://www.tensorflow.org/tutorials/layers\n",
        "def single_task_cnn_model_fn(features, labels, mode):\n",
        "  \n",
        "  # Get features\n",
        "  dense = extract_features(features)\n",
        "  \n",
        "  # Make predictions\n",
        "  predictions = tf.layers.dense(inputs=dense, units=2)\n",
        "\n",
        "  outputs = {\n",
        "      \"predictions\": predictions\n",
        "  }\n",
        "\n",
        "  # We just want the predictions\n",
        "  if mode == tf.estimator.ModeKeys.PREDICT:\n",
        "    return tf.estimator.EstimatorSpec(mode=mode, predictions=outputs)\n",
        "\n",
        "  # If not in mode.PREDICT, compute the loss (mean squared error)\n",
        "  loss = tf.losses.mean_squared_error(labels=labels[:, 2:8:5], predictions=predictions)\n",
        "\n",
        "  # Single optimization step\n",
        "  if mode == tf.estimator.ModeKeys.TRAIN:\n",
        "    optimizer = tf.train.AdamOptimizer()\n",
        "    train_op = optimizer.minimize(loss=loss, global_step=tf.train.get_global_step())\n",
        "    return tf.estimator.EstimatorSpec(mode=mode, loss=loss, train_op=train_op)\n",
        "\n",
        "  # If not PREDICT or TRAIN, then we are evaluating the model\n",
        "  eval_metric_ops = {\n",
        "      \"rmse\": tf.metrics.root_mean_squared_error(\n",
        "          labels=labels[:, 2:8:5], predictions=outputs[\"predictions\"])}\n",
        "  return tf.estimator.EstimatorSpec(\n",
        "      mode=mode, loss=loss, eval_metric_ops=eval_metric_ops)"
      ],
      "execution_count": 0,
      "outputs": []
    },
    {
      "metadata": {
        "id": "F5kgcNLYD1Xt",
        "colab_type": "code",
        "colab": {}
      },
      "cell_type": "code",
      "source": [
        ""
      ],
      "execution_count": 0,
      "outputs": []
    }
  ]
}